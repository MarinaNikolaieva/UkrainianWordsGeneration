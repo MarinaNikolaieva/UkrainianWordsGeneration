{
  "nbformat": 4,
  "nbformat_minor": 0,
  "metadata": {
    "colab": {
      "provenance": []
    },
    "kernelspec": {
      "name": "python3",
      "display_name": "Python 3"
    },
    "language_info": {
      "name": "python"
    }
  },
  "cells": [
    {
      "cell_type": "code",
      "source": [
        "from google.colab import drive\n",
        "!pip install unidecode\n",
        "import unidecode\n",
        "drive.mount('/content/gdrive')"
      ],
      "metadata": {
        "colab": {
          "base_uri": "https://localhost:8080/"
        },
        "id": "dmUGnaAA_TDd",
        "outputId": "115a98e0-7537-47a4-ac1e-1017e3c9312f"
      },
      "execution_count": null,
      "outputs": [
        {
          "output_type": "stream",
          "name": "stdout",
          "text": [
            "Collecting unidecode\n",
            "  Downloading Unidecode-1.3.7-py3-none-any.whl (235 kB)\n",
            "\u001b[?25l     \u001b[90m━━━━━━━━━━━━━━━━━━━━━━━━━━━━━━━━━━━━━━━━\u001b[0m \u001b[32m0.0/235.5 kB\u001b[0m \u001b[31m?\u001b[0m eta \u001b[36m-:--:--\u001b[0m\r\u001b[2K     \u001b[91m━━━━━━━━━━━━━━━━━━━━━━━━━━\u001b[0m\u001b[90m╺\u001b[0m\u001b[90m━━━━━━━━━━━━━\u001b[0m \u001b[32m153.6/235.5 kB\u001b[0m \u001b[31m4.8 MB/s\u001b[0m eta \u001b[36m0:00:01\u001b[0m\r\u001b[2K     \u001b[90m━━━━━━━━━━━━━━━━━━━━━━━━━━━━━━━━━━━━━━━━\u001b[0m \u001b[32m235.5/235.5 kB\u001b[0m \u001b[31m4.2 MB/s\u001b[0m eta \u001b[36m0:00:00\u001b[0m\n",
            "\u001b[?25hInstalling collected packages: unidecode\n",
            "Successfully installed unidecode-1.3.7\n",
            "Mounted at /content/gdrive\n"
          ]
        }
      ]
    },
    {
      "cell_type": "code",
      "execution_count": null,
      "metadata": {
        "id": "TqGYBGEar6YK"
      },
      "outputs": [],
      "source": [
        "readFile = open('/content/gdrive/My Drive/Kaggle/stress-dict.txt', \"r\")\n",
        "writeFile = open('/content/gdrive/My Drive/Kaggle/ukr-word-dict.txt', \"w\")\n",
        "\n",
        "words = []\n",
        "for line in readFile.readlines():\n",
        "  outputLine = line.replace(\"\\u0301\", \"\")\n",
        "  words.append(outputLine)\n",
        "\n",
        "wordsN = set()\n",
        "result = []\n",
        "for item in words:\n",
        "    if item not in wordsN:\n",
        "        wordsN.add(item)\n",
        "        result.append(item)\n",
        "\n",
        "for word in result:\n",
        "  writeFile.write(word)\n",
        "\n",
        "readFile.close()\n",
        "writeFile.close()"
      ]
    },
    {
      "cell_type": "code",
      "source": [
        "inputString = \"а-ля-фурше́т\"\n",
        "string = inputString.replace(\"\\u0301\", \"\")\n",
        "print(inputString)\n",
        "print(string)"
      ],
      "metadata": {
        "colab": {
          "base_uri": "https://localhost:8080/"
        },
        "id": "gZZ_fPXevgcO",
        "outputId": "fd8e31d1-f3fe-4bfc-baee-ff30d2e16290"
      },
      "execution_count": null,
      "outputs": [
        {
          "output_type": "stream",
          "name": "stdout",
          "text": [
            "а-ля-фурше́т\n",
            "а-ля-фуршет\n"
          ]
        }
      ]
    },
    {
      "cell_type": "code",
      "source": [
        "!pip install markov-word-generator\n",
        "!pip install unidecode\n",
        "from markov_word_generator import MarkovWordGenerator\n",
        "\n",
        "generator = MarkovWordGenerator(\n",
        "\tmarkov_length=4,\n",
        "\tdictionary_filename='/content/gdrive/My Drive/Kaggle/ukr-word-dict.txt'\n",
        ")\n",
        "print(generator.generate_word())"
      ],
      "metadata": {
        "colab": {
          "base_uri": "https://localhost:8080/"
        },
        "id": "nGhCx8b9-1gO",
        "outputId": "be7e2251-98c7-48d5-9351-1ed1bddf4b96"
      },
      "execution_count": null,
      "outputs": [
        {
          "output_type": "stream",
          "name": "stdout",
          "text": [
            "Requirement already satisfied: markov-word-generator in /usr/local/lib/python3.10/dist-packages (0.3)\n",
            "Requirement already satisfied: unidecode in /usr/local/lib/python3.10/dist-packages (1.3.7)\n",
            "мазуватиметься\n"
          ]
        }
      ]
    }
  ]
}